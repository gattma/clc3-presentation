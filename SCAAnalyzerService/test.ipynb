{
 "cells": [
  {
   "cell_type": "code",
   "execution_count": 2,
   "metadata": {
    "collapsed": true,
    "pycharm": {
     "is_executing": false
    }
   },
   "outputs": [
    {
     "name": "stdout",
     "text": [
      "['<workflow>\\n', '    <interaction>\\n', \"    <action type='delay'>1150.0000000000002</action>\\n\", \"    <action type='click'>ACTION0.png</action>\\n\", \"    <action type='delay'>1000.0</action>\\n\", \"    <action type='click'>ACTION1.png</action>\\n\", \"    <action type='delay'>950.0</action>\\n\", \"    <action type='click'>ACTION2.png</action>\\n\", \"    <action type='delay'>850.0</action>\\n\", \"    <action type='click'>ACTION3.png</action>\\n\", '    </interaction>\\n', '</workflow>']\n<workflow>\n    <interaction>\n    <action type='delay'>1150.0000000000002</action>\n    <action type='click'>ACTION0.png</action>\n    <action type='delay'>1000.0</action>\n    <action type='click'>ACTION1.png</action>\n    <action type='delay'>950.0</action>\n    <action type='click'>ACTION2.png</action>\n    <action type='delay'>850.0</action>\n    <action type='click'>ACTION3.png</action>\n    </interaction>\n</workflow>\n"
     ],
     "output_type": "stream"
    }
   ],
   "source": [
    "file1 = open(\"resources/workflow.xml\", \"r+\")\n",
    "workflow_xml = file1.readlines()\n",
    "print(workflow_xml)\n",
    "\n",
    "s = \"\".join(workflow_xml)\n",
    "print(s)"
   ]
  }
 ],
 "metadata": {
  "language_info": {
   "codemirror_mode": {
    "name": "ipython",
    "version": 2
   },
   "file_extension": ".py",
   "mimetype": "text/x-python",
   "name": "python",
   "nbconvert_exporter": "python",
   "pygments_lexer": "ipython2",
   "version": "2.7.6"
  },
  "kernelspec": {
   "name": "python3",
   "language": "python",
   "display_name": "Python 3"
  },
  "pycharm": {
   "stem_cell": {
    "cell_type": "raw",
    "source": [],
    "metadata": {
     "collapsed": false
    }
   }
  }
 },
 "nbformat": 4,
 "nbformat_minor": 0
}